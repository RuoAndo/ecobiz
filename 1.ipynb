{
 "cells": [
  {
   "cell_type": "code",
   "execution_count": 2,
   "metadata": {},
   "outputs": [
    {
     "data": {
      "text/html": [
       "<div>\n",
       "<style scoped>\n",
       "    .dataframe tbody tr th:only-of-type {\n",
       "        vertical-align: middle;\n",
       "    }\n",
       "\n",
       "    .dataframe tbody tr th {\n",
       "        vertical-align: top;\n",
       "    }\n",
       "\n",
       "    .dataframe thead th {\n",
       "        text-align: right;\n",
       "    }\n",
       "</style>\n",
       "<table border=\"1\" class=\"dataframe\">\n",
       "  <thead>\n",
       "    <tr style=\"text-align: right;\">\n",
       "      <th></th>\n",
       "      <th>Open</th>\n",
       "      <th>High</th>\n",
       "      <th>Low</th>\n",
       "      <th>Close</th>\n",
       "      <th>Volume</th>\n",
       "    </tr>\n",
       "    <tr>\n",
       "      <th>Date</th>\n",
       "      <th></th>\n",
       "      <th></th>\n",
       "      <th></th>\n",
       "      <th></th>\n",
       "      <th></th>\n",
       "    </tr>\n",
       "  </thead>\n",
       "  <tbody>\n",
       "    <tr>\n",
       "      <th>2024-08-22</th>\n",
       "      <td>1970.00</td>\n",
       "      <td>1998.00</td>\n",
       "      <td>1966.00</td>\n",
       "      <td>1995.50</td>\n",
       "      <td>5.234400e+06</td>\n",
       "    </tr>\n",
       "    <tr>\n",
       "      <th>2024-08-21</th>\n",
       "      <td>1963.00</td>\n",
       "      <td>1973.00</td>\n",
       "      <td>1946.00</td>\n",
       "      <td>1972.50</td>\n",
       "      <td>5.365100e+06</td>\n",
       "    </tr>\n",
       "    <tr>\n",
       "      <th>2024-08-20</th>\n",
       "      <td>1944.00</td>\n",
       "      <td>1969.50</td>\n",
       "      <td>1944.00</td>\n",
       "      <td>1967.00</td>\n",
       "      <td>4.933600e+06</td>\n",
       "    </tr>\n",
       "    <tr>\n",
       "      <th>2024-08-19</th>\n",
       "      <td>1924.50</td>\n",
       "      <td>1949.50</td>\n",
       "      <td>1920.50</td>\n",
       "      <td>1940.00</td>\n",
       "      <td>5.214800e+06</td>\n",
       "    </tr>\n",
       "    <tr>\n",
       "      <th>2024-08-16</th>\n",
       "      <td>1929.00</td>\n",
       "      <td>1929.50</td>\n",
       "      <td>1900.50</td>\n",
       "      <td>1927.00</td>\n",
       "      <td>6.138300e+06</td>\n",
       "    </tr>\n",
       "    <tr>\n",
       "      <th>...</th>\n",
       "      <td>...</td>\n",
       "      <td>...</td>\n",
       "      <td>...</td>\n",
       "      <td>...</td>\n",
       "      <td>...</td>\n",
       "    </tr>\n",
       "    <tr>\n",
       "      <th>2019-08-30</th>\n",
       "      <td>1213.29</td>\n",
       "      <td>1215.31</td>\n",
       "      <td>1209.23</td>\n",
       "      <td>1209.62</td>\n",
       "      <td>8.701377e+06</td>\n",
       "    </tr>\n",
       "    <tr>\n",
       "      <th>2019-08-29</th>\n",
       "      <td>1213.68</td>\n",
       "      <td>1216.54</td>\n",
       "      <td>1204.77</td>\n",
       "      <td>1207.60</td>\n",
       "      <td>1.061497e+07</td>\n",
       "    </tr>\n",
       "    <tr>\n",
       "      <th>2019-08-28</th>\n",
       "      <td>1219.37</td>\n",
       "      <td>1221.40</td>\n",
       "      <td>1211.25</td>\n",
       "      <td>1212.88</td>\n",
       "      <td>1.149821e+07</td>\n",
       "    </tr>\n",
       "    <tr>\n",
       "      <th>2019-08-27</th>\n",
       "      <td>1225.45</td>\n",
       "      <td>1226.27</td>\n",
       "      <td>1217.33</td>\n",
       "      <td>1221.40</td>\n",
       "      <td>1.041967e+07</td>\n",
       "    </tr>\n",
       "    <tr>\n",
       "      <th>2019-08-26</th>\n",
       "      <td>1218.56</td>\n",
       "      <td>1223.83</td>\n",
       "      <td>1214.90</td>\n",
       "      <td>1221.40</td>\n",
       "      <td>1.211307e+07</td>\n",
       "    </tr>\n",
       "  </tbody>\n",
       "</table>\n",
       "<p>1220 rows × 5 columns</p>\n",
       "</div>"
      ],
      "text/plain": [
       "               Open     High      Low    Close        Volume\n",
       "Date                                                        \n",
       "2024-08-22  1970.00  1998.00  1966.00  1995.50  5.234400e+06\n",
       "2024-08-21  1963.00  1973.00  1946.00  1972.50  5.365100e+06\n",
       "2024-08-20  1944.00  1969.50  1944.00  1967.00  4.933600e+06\n",
       "2024-08-19  1924.50  1949.50  1920.50  1940.00  5.214800e+06\n",
       "2024-08-16  1929.00  1929.50  1900.50  1927.00  6.138300e+06\n",
       "...             ...      ...      ...      ...           ...\n",
       "2019-08-30  1213.29  1215.31  1209.23  1209.62  8.701377e+06\n",
       "2019-08-29  1213.68  1216.54  1204.77  1207.60  1.061497e+07\n",
       "2019-08-28  1219.37  1221.40  1211.25  1212.88  1.149821e+07\n",
       "2019-08-27  1225.45  1226.27  1217.33  1221.40  1.041967e+07\n",
       "2019-08-26  1218.56  1223.83  1214.90  1221.40  1.211307e+07\n",
       "\n",
       "[1220 rows x 5 columns]"
      ]
     },
     "execution_count": 2,
     "metadata": {},
     "output_type": "execute_result"
    }
   ],
   "source": [
    "import pandas_datareader.data as pdr\n",
    "df = pdr.DataReader(\"9434.JP\", \"stooq\")\n",
    "df"
   ]
  },
  {
   "cell_type": "code",
   "execution_count": 3,
   "metadata": {},
   "outputs": [
    {
     "data": {
      "text/plain": [
       "<AxesSubplot:xlabel='Date'>"
      ]
     },
     "execution_count": 3,
     "metadata": {},
     "output_type": "execute_result"
    },
    {
     "data": {
      "image/png": "[encoded data removed]",
      "text/plain": [
       "<Figure size 432x288 with 1 Axes>"
      ]
     },
     "metadata": {
      "needs_background": "light"
     },
     "output_type": "display_data"
    }
   ],
   "source": [
    "df.plot()"
   ]
  },
  {
   "cell_type": "code",
   "execution_count": 5,
   "metadata": {},
   "outputs": [
    {
     "data": {
      "text/plain": [
       "<AxesSubplot:xlabel='Date'>"
      ]
     },
     "execution_count": 5,
     "metadata": {},
     "output_type": "execute_result"
    },
    {
     "data": {
      "image/png": "[encoded data removed]",
      "text/plain": [
       "<Figure size 432x288 with 1 Axes>"
      ]
     },
     "metadata": {
      "needs_background": "light"
     },
     "output_type": "display_data"
    }
   ],
   "source": [
    "df[\"Close\"].plot()"
   ]
  }
 ],
 "metadata": {
  "kernelspec": {
   "display_name": "Python 3",
   "language": "python",
   "name": "python3"
  },
  "language_info": {
   "codemirror_mode": {
    "name": "ipython",
    "version": 3
   },
   "file_extension": ".py",
   "mimetype": "text/x-python",
   "name": "python",
   "nbconvert_exporter": "python",
   "pygments_lexer": "ipython3",
   "version": "3.8.5"
  }
 },
 "nbformat": 4,
 "nbformat_minor": 4
}
