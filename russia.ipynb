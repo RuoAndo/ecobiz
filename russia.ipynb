{
 "cells": [
  {
   "cell_type": "code",
   "execution_count": 8,
   "metadata": {},
   "outputs": [
    {
     "name": "stdout",
     "output_type": "stream",
     "text": [
      "                _time       source_ip  duration  eventcount  concurrency  rand\n",
      "0 2024-02-28 15:00:00  152.89.198.141        12          16           13     0\n",
      "1 2024-02-28 15:00:00   152.89.198.88        48          58           22     0\n",
      "2 2024-02-28 15:00:00   152.89.198.71        44          41           25     0\n",
      "3 2024-02-28 15:00:00   185.198.69.81         1           1           26     0\n",
      "4 2024-02-28 15:00:01   152.89.198.84         1           1           25     0\n"
     ]
    },
    {
     "data": {
      "image/png": "[encoded data removed]",
      "text/plain": [
       "<Figure size 720x432 with 1 Axes>"
      ]
     },
     "metadata": {
      "needs_background": "light"
     },
     "output_type": "display_data"
    }
   ],
   "source": [
    "import pandas as pd\n",
    "from datetime import datetime\n",
    "import matplotlib.pyplot as plt\n",
    "\n",
    "# CSVファイルを読み込み\n",
    "df = pd.read_csv('csv-Russia-1-ingoing-maxspan-1m.20240304.csv')\n",
    "\n",
    "df.head()\n",
    "\n",
    "# タイムスタンプ列があると仮定し、その列の名前が 'timestamp' だとします\n",
    "# UNIXタイムスタンプがある列をdatetime形式に変換（例えば秒単位の場合）\n",
    "df['_time'] = pd.to_datetime(df['_time'], unit='s')\n",
    "\n",
    "# 最初の数行を表示\n",
    "print(df.head())\n",
    "\n",
    "# もしファイルを保存する場合\n",
    "df.to_csv('converted_timestamps.csv', index=False)\n",
    "\n",
    "# durationとeventcountで散布図をプロット\n",
    "plt.figure(figsize=(10,6))\n",
    "plt.scatter(df['duration'], df['eventcount'], alpha=0.5)\n",
    "\n",
    "# グラフのタイトルとラベルを設定\n",
    "plt.title('Duration vs Event Count')\n",
    "plt.xlabel('Duration')\n",
    "plt.ylabel('Event Count')\n",
    "\n",
    "# グラフを表示\n",
    "plt.show()\n"
   ]
  },
  {
   "cell_type": "code",
   "execution_count": null,
   "metadata": {},
   "outputs": [],
   "source": []
  }
 ],
 "metadata": {
  "kernelspec": {
   "display_name": "Python 3",
   "language": "python",
   "name": "python3"
  },
  "language_info": {
   "codemirror_mode": {
    "name": "ipython",
    "version": 3
   },
   "file_extension": ".py",
   "mimetype": "text/x-python",
   "name": "python",
   "nbconvert_exporter": "python",
   "pygments_lexer": "ipython3",
   "version": "3.8.5"
  }
 },
 "nbformat": 4,
 "nbformat_minor": 4
}
